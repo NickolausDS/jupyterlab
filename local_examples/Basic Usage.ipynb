{
 "cells": [
  {
   "cell_type": "markdown",
   "metadata": {},
   "source": [
    "## Fair Research Login -- Basic Example\n",
    "<p>This example shows you basic usage of the Native Client </p>\n",
    "\n",
    "\n",
    "<p>The most basic usage automatically saves and loads tokens, and provides\n",
    "a local server for logging in users.</p>"
   ]
  },
  {
   "cell_type": "code",
   "execution_count": null,
   "metadata": {},
   "outputs": [],
   "source": [
    "from fair_research_login import NativeClient\n",
    "\n",
    "client = NativeClient(client_id='7414f0b4-7d05-4bb6-bb00-076fa3f17cf5', app_name='My App')\n",
    "\n",
    "tokens = client.login()\n",
    "\n",
    "tokens"
   ]
  },
  {
   "cell_type": "markdown",
   "metadata": {},
   "source": [
    "<p>The Code:<pre>client.login()</pre> automatically saves tokens. You can load them at any time.</p>"
   ]
  },
  {
   "cell_type": "code",
   "execution_count": null,
   "metadata": {},
   "outputs": [],
   "source": [
    "client.load_tokens()"
   ]
  },
  {
   "cell_type": "code",
   "execution_count": null,
   "metadata": {},
   "outputs": [],
   "source": [
    "client.get_authorizers()"
   ]
  },
  {
   "cell_type": "code",
   "execution_count": null,
   "metadata": {},
   "outputs": [],
   "source": [
    "# Clear Previous Login\n",
    "client.logout()\n",
    "\n",
    "# Automatically saves tokens in ~/.globus-native-apps.cfg\n",
    "client.login(\n",
    "    # Request any scopes you want to use here.\n",
    "    requested_scopes=['openid', 'profile'],\n",
    "    # You can turn off the local server if it cannot be used for some reason\n",
    "    no_local_server=True,\n",
    "    # You can also turn off automatically opening the Auth URL\n",
    "    no_browser=True,\n",
    "    # refresh tokens are fully supported, but optional\n",
    "    refresh_tokens=True,\n",
    ")"
   ]
  },
  {
   "cell_type": "code",
   "execution_count": null,
   "metadata": {},
   "outputs": [],
   "source": [
    "from globus_sdk import AuthClient\n",
    "\n",
    "# Authorizers automatically choose a refresh token authorizer if possible,\n",
    "# and will automatically save new refreshed tokens when they expire.\n",
    "ac_authorizer = client.get_authorizers()['auth.globus.org']\n",
    "print(f'Using {ac_authorizer}')\n",
    "\n",
    "# Example client usage:\n",
    "auth_cli = AuthClient(authorizer=ac_authorizer)\n",
    "user_info = auth_cli.oauth2_userinfo()\n",
    "print('Hello {}! How are you today?'.format(user_info['name']))"
   ]
  },
  {
   "cell_type": "code",
   "execution_count": null,
   "metadata": {},
   "outputs": [],
   "source": [
    "# Revoke tokens now that we're done\n",
    "client.logout()"
   ]
  },
  {
   "cell_type": "code",
   "execution_count": null,
   "metadata": {},
   "outputs": [],
   "source": []
  }
 ],
 "metadata": {
  "kernelspec": {
   "display_name": "Python 3",
   "language": "python",
   "name": "python3"
  },
  "language_info": {
   "codemirror_mode": {
    "name": "ipython",
    "version": 3
   },
   "file_extension": ".py",
   "mimetype": "text/x-python",
   "name": "python",
   "nbconvert_exporter": "python",
   "pygments_lexer": "ipython3",
   "version": "3.6.4"
  }
 },
 "nbformat": 4,
 "nbformat_minor": 2
}
