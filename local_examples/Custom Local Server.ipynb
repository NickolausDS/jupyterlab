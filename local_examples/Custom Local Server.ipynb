{
 "cells": [
  {
   "cell_type": "code",
   "execution_count": null,
   "metadata": {},
   "outputs": [],
   "source": [
    "template = \"\"\"\n",
    "<h1>$app_name</h1>\n",
    "<p>\n",
    "  $login_result <br> You may close this tab.\n",
    "</p>\n",
    "<p>\n",
    "  $error\n",
    "</p>\n",
    "<p>\n",
    "  $post_login_message\n",
    "</p>\n",
    "\"\"\"\n",
    "\n",
    "template_vars = {\n",
    "    'defaults': {\n",
    "        'app_name': '',  # Auto-populated if blank, but can be changed\n",
    "        'post_login_message': '',\n",
    "        'error': '',  # Present if there is an error in Globus Auth\n",
    "    },\n",
    "    'success': {\n",
    "        'login_result': '<p>Login Successful</p><img src=\"https://i.imgur.com/XRzThJH.jpg\" height=600 width=800>',\n",
    "    },\n",
    "    'error': {\n",
    "        'login_result': '<p>Login Failed</p><img src=\"https://i.imgur.com/YjMR0E6.jpg\" height=700 width=700>',\n",
    "    }\n",
    "}"
   ]
  },
  {
   "cell_type": "code",
   "execution_count": null,
   "metadata": {},
   "outputs": [],
   "source": [
    "from fair_research_login import NativeClient, LocalServerCodeHandler\n",
    "\n",
    "app = NativeClient(\n",
    "    client_id='7414f0b4-7d05-4bb6-bb00-076fa3f17cf5',\n",
    "    # Use our custom local server\n",
    "    local_server_code_handler=LocalServerCodeHandler(template, template_vars),\n",
    "    # Automatically populates 'app_name' in template if defined\n",
    "    app_name='Native Login Examples',\n",
    ")\n",
    "\n",
    "app.login()\n",
    "app.logout()"
   ]
  },
  {
   "cell_type": "code",
   "execution_count": null,
   "metadata": {},
   "outputs": [],
   "source": []
  }
 ],
 "metadata": {
  "kernelspec": {
   "display_name": "Python 3",
   "language": "python",
   "name": "python3"
  },
  "language_info": {
   "codemirror_mode": {
    "name": "ipython",
    "version": 3
   },
   "file_extension": ".py",
   "mimetype": "text/x-python",
   "name": "python",
   "nbconvert_exporter": "python",
   "pygments_lexer": "ipython3",
   "version": "3.6.4"
  }
 },
 "nbformat": 4,
 "nbformat_minor": 2
}
