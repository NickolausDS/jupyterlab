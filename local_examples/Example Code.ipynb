{
 "cells": [
  {
   "cell_type": "code",
   "execution_count": null,
   "metadata": {},
   "outputs": [],
   "source": [
    "from fair_research_login import NativeClient\n",
    "SCOPES = [\n",
    "        'openid',\n",
    "        'profile',\n",
    "        'urn:globus:auth:scope:search.api.globus.org:all',\n",
    "        'urn:globus:auth:scope:transfer.api.globus.org:all',\n",
    "        'https://auth.globus.org/scopes/'\n",
    "        '56ceac29-e98a-440a-a594-b41e7a084b62/all',\n",
    "    ]\n",
    "nc = NativeClient(client_id='7414f0b4-7d05-4bb6-bb00-076fa3f17cf5')"
   ]
  },
  {
   "cell_type": "code",
   "execution_count": null,
   "metadata": {},
   "outputs": [],
   "source": [
    "nc.login(requested_scopes=SCOPES)\n",
    "authorizers = nc.get_authorizers()\n",
    "authorizers"
   ]
  },
  {
   "cell_type": "code",
   "execution_count": null,
   "metadata": {},
   "outputs": [],
   "source": [
    "from globus_sdk import AuthClient\n",
    "\n",
    "auth = AuthClient(authorizer=authorizers['auth.globus.org'])\n",
    "name = auth.oauth2_userinfo()[\"name\"]\n",
    "\n",
    "print(f'Hello {name}, how are you today?')"
   ]
  },
  {
   "cell_type": "code",
   "execution_count": null,
   "metadata": {},
   "outputs": [],
   "source": [
    "from globus_sdk import SearchClient\n",
    "# Exalearn Index\n",
    "INDEX = 'be69a351-f893-4268-8647-70bcb06fcd00'\n",
    "\n",
    "search = SearchClient(authorizer=authorizers['search.api.globus.org'])\n",
    "entry = search.get_subject(INDEX, subject='gsearch://parA-627-0.0')\n",
    "entry.data"
   ]
  },
  {
   "cell_type": "code",
   "execution_count": null,
   "metadata": {},
   "outputs": [],
   "source": [
    "import requests\n",
    "print(f'Fetching image for universe {entry[\"content\"][0][\"cosmo\"][\"universe_id\"]}')\n",
    "      \n",
    "petrel_access_token = nc.load_tokens()['petrel_https_server']['access_token']\n",
    "headers = {'Authorization': f'bearer {petrel_access_token}'}\n",
    "      \n",
    "r = requests.get(entry['content'][0]['cosmo']['data_png'], headers=headers, stream=True)\n",
    "\n",
    "with open('galaxy.png', 'wb') as fh:\n",
    "    for chunk in r.iter_content():\n",
    "        fh.write(chunk)"
   ]
  },
  {
   "cell_type": "code",
   "execution_count": null,
   "metadata": {},
   "outputs": [],
   "source": [
    "from IPython.display import Image\n",
    "Image(filename='galaxy.png') "
   ]
  },
  {
   "cell_type": "code",
   "execution_count": null,
   "metadata": {},
   "outputs": [],
   "source": [
    "nc.logout()"
   ]
  }
 ],
 "metadata": {
  "kernelspec": {
   "display_name": "Python 3",
   "language": "python",
   "name": "python3"
  },
  "language_info": {
   "codemirror_mode": {
    "name": "ipython",
    "version": 3
   },
   "file_extension": ".py",
   "mimetype": "text/x-python",
   "name": "python",
   "nbconvert_exporter": "python",
   "pygments_lexer": "ipython3",
   "version": "3.6.4"
  }
 },
 "nbformat": 4,
 "nbformat_minor": 2
}
