{
 "cells": [
  {
   "cell_type": "markdown",
   "metadata": {},
   "source": [
    "## Custom Config Example\n",
    "\n",
    "<p>At some point, your client will probably need to have it's own config mechanism\n",
    "for your app-specific config values. To use a custom config, all you need to\n",
    "do is provide the read_tokens/write_tokens/clear_tokens functions in an object.<p>"
   ]
  },
  {
   "cell_type": "code",
   "execution_count": null,
   "metadata": {},
   "outputs": [],
   "source": [
    "import json\n",
    "import os\n",
    "\n",
    "\n",
    "class MyTokenStorage(object):\n",
    "    FILENAME = 'my_tokens.json'\n",
    "\n",
    "    def write_tokens(self, tokens):\n",
    "        with open(self.FILENAME, 'w+') as fh:\n",
    "            json.dump(tokens, fh, indent=2)\n",
    "\n",
    "    def read_tokens(self):\n",
    "        with open(self.FILENAME) as fh:\n",
    "            return json.load(fh)\n",
    "\n",
    "    def clear_tokens(self):\n",
    "        os.remove(self.FILENAME)\n"
   ]
  },
  {
   "cell_type": "code",
   "execution_count": null,
   "metadata": {},
   "outputs": [],
   "source": [
    "from fair_research_login import NativeClient\n",
    "app = NativeClient(client_id='7414f0b4-7d05-4bb6-bb00-076fa3f17cf5',\n",
    "                   token_storage=MyTokenStorage())"
   ]
  },
  {
   "cell_type": "code",
   "execution_count": null,
   "metadata": {},
   "outputs": [],
   "source": [
    "# Get tokens\n",
    "app.login()"
   ]
  },
  {
   "cell_type": "code",
   "execution_count": null,
   "metadata": {},
   "outputs": [],
   "source": [
    "# Calls read_tokens()\n",
    "app.load_tokens()"
   ]
  },
  {
   "cell_type": "code",
   "execution_count": null,
   "metadata": {},
   "outputs": [],
   "source": [
    "import os\n",
    "os.listdir('.')"
   ]
  },
  {
   "cell_type": "code",
   "execution_count": null,
   "metadata": {},
   "outputs": [],
   "source": [
    "# Calls clear_tokens()\n",
    "app.logout()"
   ]
  },
  {
   "cell_type": "code",
   "execution_count": null,
   "metadata": {},
   "outputs": [],
   "source": [
    "os.listdir('.')"
   ]
  },
  {
   "cell_type": "code",
   "execution_count": null,
   "metadata": {},
   "outputs": [],
   "source": []
  }
 ],
 "metadata": {
  "kernelspec": {
   "display_name": "Python 3",
   "language": "python",
   "name": "python3"
  },
  "language_info": {
   "codemirror_mode": {
    "name": "ipython",
    "version": 3
   },
   "file_extension": ".py",
   "mimetype": "text/x-python",
   "name": "python",
   "nbconvert_exporter": "python",
   "pygments_lexer": "ipython3",
   "version": "3.6.4"
  }
 },
 "nbformat": 4,
 "nbformat_minor": 2
}
